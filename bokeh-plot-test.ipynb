{
 "cells": [
  {
   "cell_type": "code",
   "execution_count": 1,
   "id": "17c6d850-1afd-4906-b2fb-7611a76ef963",
   "metadata": {},
   "outputs": [],
   "source": [
    "from bokeh.plotting import figure, show\n",
    "from bokeh.models import ColumnDataSource\n",
    "from bokeh.embed import components"
   ]
  },
  {
   "cell_type": "code",
   "execution_count": 11,
   "id": "140ed5c0-5b77-4697-8cb7-dc3f4997f814",
   "metadata": {},
   "outputs": [],
   "source": [
    "x = [1, 2, 3, 4, 5]\n",
    "y = [6, 7, 2, 4, 5]\n",
    "\n",
    "p = figure(title='Simple line example', x_axis_label='x', y_axis_label='y')\n",
    "\n",
    "p.line(x, y, legend_label='Temp.', line_width=2)\n",
    "\n",
    "show(p)"
   ]
  },
  {
   "cell_type": "code",
   "execution_count": 15,
   "id": "1561ef27-c618-4108-bd0f-ec58d87254a7",
   "metadata": {},
   "outputs": [],
   "source": [
    "out = components(p, wrap_script=False)"
   ]
  },
  {
   "cell_type": "code",
   "execution_count": 17,
   "id": "699f3500-c9cb-4768-96eb-cd821d789b98",
   "metadata": {},
   "outputs": [
    {
     "data": {
      "text/plain": [
       "'(function() {\\n  var fn = function() {\\n    Bokeh.safely(function() {\\n      (function(root) {\\n        function embed_document(root) {\\n          \\n        var docs_json = \\'{\"7a6f2737-6683-4177-97bd-d6b1a4b8d0cb\":{\"defs\":[],\"roots\":{\"references\":[{\"attributes\":{\"label\":{\"value\":\"Temp.\"},\"renderers\":[{\"id\":\"1214\"}]},\"id\":\"1227\",\"type\":\"LegendItem\"},{\"attributes\":{\"items\":[{\"id\":\"1227\"}]},\"id\":\"1226\",\"type\":\"Legend\"},{\"attributes\":{\"line_alpha\":0.1,\"line_color\":\"#1f77b4\",\"line_width\":2,\"x\":{\"field\":\"x\"},\"y\":{\"field\":\"y\"}},\"id\":\"1213\",\"type\":\"Line\"},{\"attributes\":{\"source\":{\"id\":\"1211\"}},\"id\":\"1215\",\"type\":\"CDSView\"},{\"attributes\":{},\"id\":\"1201\",\"type\":\"ResetTool\"},{\"attributes\":{},\"id\":\"1200\",\"type\":\"SaveTool\"},{\"attributes\":{\"overlay\":{\"id\":\"1203\"}},\"id\":\"1199\",\"type\":\"BoxZoomTool\"},{\"attributes\":{},\"id\":\"1220\",\"type\":\"AllLabels\"},{\"attributes\":{\"line_color\":\"#1f77b4\",\"line_width\":2,\"x\":{\"field\":\"x\"},\"y\":{\"field\":\"y\"}},\"id\":\"1212\",\"type\":\"Line\"},{\"attributes\":{},\"id\":\"1219\",\"type\":\"BasicTickFormatter\"},{\"attributes\":{},\"id\":\"1222\",\"type\":\"BasicTickFormatter\"},{\"attributes\":{\"text\":\"Simple line example\"},\"id\":\"1179\",\"type\":\"Title\"},{\"attributes\":{\"data_source\":{\"id\":\"1211\"},\"glyph\":{\"id\":\"1212\"},\"hover_glyph\":null,\"muted_glyph\":null,\"nonselection_glyph\":{\"id\":\"1213\"},\"view\":{\"id\":\"1215\"}},\"id\":\"1214\",\"type\":\"GlyphRenderer\"},{\"attributes\":{},\"id\":\"1181\",\"type\":\"DataRange1d\"},{\"attributes\":{\"data\":{\"x\":[1,2,3,4,5],\"y\":[6,7,2,4,5]},\"selected\":{\"id\":\"1225\"},\"selection_policy\":{\"id\":\"1224\"}},\"id\":\"1211\",\"type\":\"ColumnDataSource\"},{\"attributes\":{\"below\":[{\"id\":\"1189\"}],\"center\":[{\"id\":\"1192\"},{\"id\":\"1196\"},{\"id\":\"1226\"}],\"left\":[{\"id\":\"1193\"}],\"renderers\":[{\"id\":\"1214\"}],\"title\":{\"id\":\"1179\"},\"toolbar\":{\"id\":\"1204\"},\"x_range\":{\"id\":\"1181\"},\"x_scale\":{\"id\":\"1185\"},\"y_range\":{\"id\":\"1183\"},\"y_scale\":{\"id\":\"1187\"}},\"id\":\"1178\",\"subtype\":\"Figure\",\"type\":\"Plot\"},{\"attributes\":{},\"id\":\"1217\",\"type\":\"AllLabels\"},{\"attributes\":{},\"id\":\"1197\",\"type\":\"PanTool\"},{\"attributes\":{},\"id\":\"1202\",\"type\":\"HelpTool\"},{\"attributes\":{\"active_multi\":null,\"tools\":[{\"id\":\"1197\"},{\"id\":\"1198\"},{\"id\":\"1199\"},{\"id\":\"1200\"},{\"id\":\"1201\"},{\"id\":\"1202\"}]},\"id\":\"1204\",\"type\":\"Toolbar\"},{\"attributes\":{},\"id\":\"1194\",\"type\":\"BasicTicker\"},{\"attributes\":{\"axis\":{\"id\":\"1193\"},\"dimension\":1,\"ticker\":null},\"id\":\"1196\",\"type\":\"Grid\"},{\"attributes\":{\"axis_label\":\"y\",\"formatter\":{\"id\":\"1219\"},\"major_label_policy\":{\"id\":\"1217\"},\"ticker\":{\"id\":\"1194\"}},\"id\":\"1193\",\"type\":\"LinearAxis\"},{\"attributes\":{},\"id\":\"1224\",\"type\":\"UnionRenderers\"},{\"attributes\":{},\"id\":\"1198\",\"type\":\"WheelZoomTool\"},{\"attributes\":{},\"id\":\"1225\",\"type\":\"Selection\"},{\"attributes\":{\"axis\":{\"id\":\"1189\"},\"ticker\":null},\"id\":\"1192\",\"type\":\"Grid\"},{\"attributes\":{},\"id\":\"1190\",\"type\":\"BasicTicker\"},{\"attributes\":{\"axis_label\":\"x\",\"formatter\":{\"id\":\"1222\"},\"major_label_policy\":{\"id\":\"1220\"},\"ticker\":{\"id\":\"1190\"}},\"id\":\"1189\",\"type\":\"LinearAxis\"},{\"attributes\":{},\"id\":\"1187\",\"type\":\"LinearScale\"},{\"attributes\":{},\"id\":\"1183\",\"type\":\"DataRange1d\"},{\"attributes\":{\"bottom_units\":\"screen\",\"fill_alpha\":0.5,\"fill_color\":\"lightgrey\",\"left_units\":\"screen\",\"level\":\"overlay\",\"line_alpha\":1.0,\"line_color\":\"black\",\"line_dash\":[4,4],\"line_width\":2,\"right_units\":\"screen\",\"syncable\":false,\"top_units\":\"screen\"},\"id\":\"1203\",\"type\":\"BoxAnnotation\"},{\"attributes\":{},\"id\":\"1185\",\"type\":\"LinearScale\"}],\"root_ids\":[\"1178\"]},\"title\":\"Bokeh Application\",\"version\":\"2.3.2\"}}\\';\\n        var render_items = [{\"docid\":\"7a6f2737-6683-4177-97bd-d6b1a4b8d0cb\",\"root_ids\":[\"1178\"],\"roots\":{\"1178\":\"e89820f6-a090-4d86-8eec-b536baead48e\"}}];\\n        root.Bokeh.embed.embed_items(docs_json, render_items);\\n      \\n        }\\n        if (root.Bokeh !== undefined) {\\n          embed_document(root);\\n        } else {\\n          var attempts = 0;\\n          var timer = setInterval(function(root) {\\n            if (root.Bokeh !== undefined) {\\n              clearInterval(timer);\\n              embed_document(root);\\n            } else {\\n              attempts++;\\n              if (attempts > 100) {\\n                clearInterval(timer);\\n                console.log(\"Bokeh: ERROR: Unable to run BokehJS code because BokehJS library is missing\");\\n              }\\n            }\\n          }, 10, root)\\n        }\\n      })(window);\\n    });\\n  };\\n  if (document.readyState != \"loading\") fn();\\n  else document.addEventListener(\"DOMContentLoaded\", fn);\\n})();'"
      ]
     },
     "execution_count": 17,
     "metadata": {},
     "output_type": "execute_result"
    }
   ],
   "source": [
    "out[0]"
   ]
  },
  {
   "cell_type": "code",
   "execution_count": 2,
   "id": "e8f3d87c-8c22-4201-b685-9f8e16659d9f",
   "metadata": {},
   "outputs": [],
   "source": [
    "from bokeh.resources import get_all_sri_hashes"
   ]
  },
  {
   "cell_type": "code",
   "execution_count": 10,
   "id": "f6a59489-4e79-4ea8-b8f1-972104915017",
   "metadata": {},
   "outputs": [
    {
     "data": {
      "text/plain": [
       "'bEsM86IHGDTLCS0Zod8a8WM6Y4+lafAL/eSiyQcuPzinmWNgNO2/olUF0Z2Dkn5i'"
      ]
     },
     "execution_count": 10,
     "metadata": {},
     "output_type": "execute_result"
    }
   ],
   "source": [
    "get_all_sri_hashes()['2.3.2']['bokeh-tables-2.3.2.min.js']"
   ]
  },
  {
   "cell_type": "code",
   "execution_count": null,
   "id": "87ce1b62-8a10-4396-af46-7e79066270d5",
   "metadata": {},
   "outputs": [],
   "source": []
  }
 ],
 "metadata": {
  "kernelspec": {
   "display_name": "Python 3 (ipykernel)",
   "language": "python",
   "name": "python3"
  },
  "language_info": {
   "codemirror_mode": {
    "name": "ipython",
    "version": 3
   },
   "file_extension": ".py",
   "mimetype": "text/x-python",
   "name": "python",
   "nbconvert_exporter": "python",
   "pygments_lexer": "ipython3",
   "version": "3.9.2"
  }
 },
 "nbformat": 4,
 "nbformat_minor": 5
}
